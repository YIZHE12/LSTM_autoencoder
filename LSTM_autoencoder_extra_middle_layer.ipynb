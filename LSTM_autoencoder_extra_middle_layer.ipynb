{
 "cells": [
  {
   "cell_type": "code",
   "execution_count": 1,
   "metadata": {},
   "outputs": [
    {
     "name": "stderr",
     "output_type": "stream",
     "text": [
      "Using TensorFlow backend.\n"
     ]
    }
   ],
   "source": [
    "# lstm autoencoder recreate sequence\n",
    "import pandas as pd\n",
    "import numpy as np\n",
    "from keras.models import Sequential\n",
    "from keras.models import Model\n",
    "from keras.layers import LSTM\n",
    "from keras.layers import Dense\n",
    "from keras.layers import RepeatVector\n",
    "from keras.layers import TimeDistributed\n",
    "from keras.layers import Activation\n",
    "from keras.optimizers import Adam\n",
    "from sklearn.preprocessing import StandardScaler, MinMaxScaler\n",
    "import matplotlib.pyplot as plt\n",
    "\n",
    "from keras.callbacks import EarlyStopping\n",
    "from keras.callbacks import ModelCheckpoint"
   ]
  },
  {
   "cell_type": "code",
   "execution_count": 2,
   "metadata": {},
   "outputs": [],
   "source": [
    "def pre_data(file,n_timestep,n_features):\n",
    "    X = pd.read_csv(file)\n",
    "    \n",
    "    X_data = X.values[:,-1-n_features:-1]\n",
    "    X_data = StandardScaler().fit_transform(X_data) \n",
    "    X_data = MinMaxScaler().fit_transform(X_data) \n",
    "    n_examples = int(np.shape(X_data)[0]/n_timestep)\n",
    "    \n",
    "    X_data = np.reshape(X_data, (n_examples,n_timestep,n_features))\n",
    "    \n",
    "    print (np.shape(X_data))\n",
    "    return (X_data)"
   ]
  },
  {
   "cell_type": "code",
   "execution_count": 3,
   "metadata": {},
   "outputs": [
    {
     "name": "stderr",
     "output_type": "stream",
     "text": [
      "C:\\Users\\yizhe\\AppData\\Local\\conda\\conda\\envs\\tf_gpu\\lib\\site-packages\\sklearn\\utils\\validation.py:595: DataConversionWarning: Data with input dtype object was converted to float64 by StandardScaler.\n",
      "  warnings.warn(msg, DataConversionWarning)\n"
     ]
    },
    {
     "name": "stdout",
     "output_type": "stream",
     "text": [
      "(3810, 128, 10)\n"
     ]
    },
    {
     "name": "stderr",
     "output_type": "stream",
     "text": [
      "C:\\Users\\yizhe\\AppData\\Local\\conda\\conda\\envs\\tf_gpu\\lib\\site-packages\\sklearn\\utils\\validation.py:595: DataConversionWarning: Data with input dtype object was converted to float64 by StandardScaler.\n",
      "  warnings.warn(msg, DataConversionWarning)\n"
     ]
    }
   ],
   "source": [
    "file = 'Data/X_train.csv'\n",
    "n_timestep = 128\n",
    "n_features = 10\n",
    "\n",
    "sequence = pre_data(file,n_timestep,n_features)"
   ]
  },
  {
   "cell_type": "code",
   "execution_count": 4,
   "metadata": {
    "scrolled": false
   },
   "outputs": [
    {
     "name": "stdout",
     "output_type": "stream",
     "text": [
      "_________________________________________________________________\n",
      "Layer (type)                 Output Shape              Param #   \n",
      "=================================================================\n",
      "lstm_1 (LSTM)                (None, 100)               44400     \n",
      "_________________________________________________________________\n",
      "repeat_vector_1 (RepeatVecto (None, 128, 100)          0         \n",
      "_________________________________________________________________\n",
      "lstm_2 (LSTM)                (None, 128, 100)          80400     \n",
      "_________________________________________________________________\n",
      "time_distributed_1 (TimeDist (None, 128, 10)           1010      \n",
      "_________________________________________________________________\n",
      "activation_1 (Activation)    (None, 128, 10)           0         \n",
      "=================================================================\n",
      "Total params: 125,810\n",
      "Trainable params: 125,810\n",
      "Non-trainable params: 0\n",
      "_________________________________________________________________\n",
      "Train on 2667 samples, validate on 1143 samples\n",
      "Epoch 1/2\n",
      "2667/2667 [==============================] - 5s 2ms/step - loss: 0.3116 - acc: 0.0339 - val_loss: 0.3230 - val_acc: 0.0416\n",
      "\n",
      "Epoch 00001: val_acc improved from -inf to 0.04163, saving model to weights_best.hdf5\n",
      "Epoch 2/2\n",
      "2667/2667 [==============================] - 2s 655us/step - loss: 0.3045 - acc: 0.0362 - val_loss: 0.3148 - val_acc: 0.0426\n",
      "\n",
      "Epoch 00002: val_acc improved from 0.04163 to 0.04259, saving model to weights_best.hdf5\n"
     ]
    }
   ],
   "source": [
    "# define model\n",
    "model = Sequential()\n",
    "model.add(LSTM(100, activation='relu', input_shape=(n_timestep,n_features)))\n",
    "model.add(RepeatVector(n_timestep)) # repeat the same output for n_timestep times (upsampling)\n",
    "model.add(LSTM(100, activation='relu', return_sequences=True))\n",
    "model.add(TimeDistributed(Dense(n_features)))\n",
    "model.add(Activation('tanh'))\n",
    "model.summary()\n",
    "optimizer_Adam = Adam(lr=0.0001, beta_1=0.9, beta_2=0.999, epsilon=None, decay=0.0, amsgrad=False)\n",
    "model.compile(optimizer=optimizer_Adam, loss='mse', metrics=['accuracy'])\n",
    "## try the lost of binary_crossentropy after normalize the data to 0-1\n",
    "# fit model\n",
    "es = EarlyStopping(monitor='val_loss', mode='min', verbose=1, patience=10)\n",
    "\n",
    "# if want to save whole model use h5\n",
    "mc= ModelCheckpoint(\"weights_best.hdf5\", monitor='val_acc', verbose=1, \\\n",
    "                    save_best_only=True, mode='max')\n",
    "\n",
    "history = model.fit(sequence, sequence, epochs=2, \\\n",
    "                    batch_size =1000, validation_split = 0.3, \\\n",
    "                    verbose=1, callbacks=[es, mc])\n"
   ]
  },
  {
   "cell_type": "code",
   "execution_count": 5,
   "metadata": {},
   "outputs": [
    {
     "data": {
      "text/plain": [
       "<matplotlib.legend.Legend at 0x2168c0d2588>"
      ]
     },
     "execution_count": 5,
     "metadata": {},
     "output_type": "execute_result"
    },
    {
     "data": {
      "image/png": "[encoded data removed]",
      "text/plain": [
       "<Figure size 432x288 with 1 Axes>"
      ]
     },
     "metadata": {
      "needs_background": "light"
     },
     "output_type": "display_data"
    }
   ],
   "source": [
    "# summarize history for loss\n",
    "fig = plt.figure()\n",
    "ax = fig.add_subplot(1,1,1)\n",
    "line1, = ax.plot(history.history['loss'], color='blue', lw=2)\n",
    "line, = ax.plot(history.history['val_loss'], color='green', lw=2)\n",
    "\n",
    "ax.set_yscale('log')\n",
    "ax.set_title('model loss')\n",
    "ax.set_ylabel('loss')\n",
    "ax.set_xlabel('epoch')\n",
    "ax.legend(['train', 'test'], loc='upper left')"
   ]
  },
  {
   "cell_type": "code",
   "execution_count": 6,
   "metadata": {},
   "outputs": [
    {
     "data": {
      "text/plain": [
       "[<matplotlib.lines.Line2D at 0x2168d1d3208>]"
      ]
     },
     "execution_count": 6,
     "metadata": {},
     "output_type": "execute_result"
    },
    {
     "data": {
      "image/png": "[encoded data removed]",
      "text/plain": [
       "<Figure size 432x288 with 2 Axes>"
      ]
     },
     "metadata": {
      "needs_background": "light"
     },
     "output_type": "display_data"
    }
   ],
   "source": [
    "model.load_weights(\"weights_best.hdf5\")\n",
    "test_ex = sequence[48,:,:]\n",
    "test_ex = np.expand_dims(test_ex, axis = 0)\n",
    "y_pred = model.predict(test_ex)\n",
    "\n",
    "k = 3\n",
    "plt.subplot(121)\n",
    "plt.plot(np.squeeze(test_ex[:,:,k]))\n",
    "plt.subplot(122)\n",
    "plt.plot(np.squeeze(y_pred[:,:,k]))"
   ]
  },
  {
   "cell_type": "code",
   "execution_count": 7,
   "metadata": {},
   "outputs": [
    {
     "name": "stdout",
     "output_type": "stream",
     "text": [
      "(3810, 100)\n"
     ]
    }
   ],
   "source": [
    "# connect the encoder LSTM as the output layer\n",
    "model = Model(inputs=model.inputs, outputs=model.layers[0].output)\n",
    "# get the feature vector for the input sequence\n",
    "yhat = model.predict(sequence)\n",
    "print(yhat.shape)"
   ]
  }
 ],
 "metadata": {
  "kernelspec": {
   "display_name": "Python 3",
   "language": "python",
   "name": "python3"
  },
  "language_info": {
   "codemirror_mode": {
    "name": "ipython",
    "version": 3
   },
   "file_extension": ".py",
   "mimetype": "text/x-python",
   "name": "python",
   "nbconvert_exporter": "python",
   "pygments_lexer": "ipython3",
   "version": "3.6.8"
  }
 },
 "nbformat": 4,
 "nbformat_minor": 2
}
